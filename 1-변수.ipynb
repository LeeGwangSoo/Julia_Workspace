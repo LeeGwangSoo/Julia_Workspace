{
 "cells": [
  {
   "attachments": {},
   "cell_type": "markdown",
   "metadata": {},
   "source": [
    "# 변수"
   ]
  },
  {
   "attachments": {},
   "cell_type": "markdown",
   "metadata": {},
   "source": [
    "## 기본 숫자 형식"
   ]
  },
  {
   "attachments": {},
   "cell_type": "markdown",
   "metadata": {},
   "source": [
    "변수는 python이나 matlab과 유사"
   ]
  },
  {
   "cell_type": "code",
   "execution_count": 1,
   "metadata": {},
   "outputs": [
    {
     "data": {
      "text/plain": [
       "2"
      ]
     },
     "metadata": {},
     "output_type": "display_data"
    }
   ],
   "source": [
    "x = 2"
   ]
  },
  {
   "cell_type": "code",
   "execution_count": 2,
   "metadata": {},
   "outputs": [
    {
     "data": {
      "text/plain": [
       "Int64"
      ]
     },
     "metadata": {},
     "output_type": "display_data"
    }
   ],
   "source": [
    "typeof(x)"
   ]
  },
  {
   "cell_type": "code",
   "execution_count": 3,
   "metadata": {},
   "outputs": [
    {
     "data": {
      "text/plain": [
       "Float64"
      ]
     },
     "metadata": {},
     "output_type": "display_data"
    }
   ],
   "source": [
    "x = 3.1415\n",
    "typeof(x)"
   ]
  },
  {
   "attachments": {},
   "cell_type": "markdown",
   "metadata": {},
   "source": [
    "## 변수 이름"
   ]
  },
  {
   "attachments": {},
   "cell_type": "markdown",
   "metadata": {},
   "source": [
    "* 대소 문자 구분"
   ]
  },
  {
   "cell_type": "code",
   "execution_count": 4,
   "metadata": {},
   "outputs": [
    {
     "name": "stdout",
     "output_type": "stream",
     "text": [
      "3.1415"
     ]
    },
    {
     "name": "stdout",
     "output_type": "stream",
     "text": [
      "\n",
      "1//3\n",
      "MyVariable"
     ]
    }
   ],
   "source": [
    "I_am_float = 3.1415\n",
    "CALL_ME_RATIONAL = 1//3\n",
    "MyString = \"MyVariable\"\n",
    "\n",
    "println(I_am_float)\n",
    "println(CALL_ME_RATIONAL)\n",
    "print(MyString)"
   ]
  },
  {
   "cell_type": "code",
   "execution_count": 6,
   "metadata": {},
   "outputs": [
    {
     "name": "stdout",
     "output_type": "stream",
     "text": [
      "1"
     ]
    },
    {
     "name": "stdout",
     "output_type": "stream",
     "text": [
      "\n",
      "It's time for pizza!!!"
     ]
    }
   ],
   "source": [
    "δ = 1  # \\delta<tab>\n",
    "🍕= \"It's time for pizza!!!\"  # \\:pizza:<tab>\n",
    "\n",
    "println(δ)\n",
    "print(🍕)"
   ]
  },
  {
   "cell_type": "code",
   "execution_count": null,
   "metadata": {},
   "outputs": [],
   "source": []
  },
  {
   "attachments": {},
   "cell_type": "markdown",
   "metadata": {},
   "source": [
    "\n",
    "# 상수"
   ]
  },
  {
   "attachments": {},
   "cell_type": "markdown",
   "metadata": {},
   "source": [
    "* 변수명 앞에 const 만 붙여 줌 "
   ]
  },
  {
   "cell_type": "code",
   "execution_count": 8,
   "metadata": {},
   "outputs": [
    {
     "name": "stdout",
     "output_type": "stream",
     "text": [
      "3"
     ]
    },
    {
     "data": {
      "text/plain": [
       "3"
      ]
     },
     "metadata": {},
     "output_type": "display_data"
    },
    {
     "name": "stderr",
     "output_type": "stream",
     "text": [
      "WARNING: redefinition of constant TWO. This may fail, cause incorrect answers, or produce other errors.\n"
     ]
    }
   ],
   "source": [
    "const TWO = 2\n",
    "\n",
    "print(TWO + 1)\n",
    "\n",
    "TWO = TWO + 1"
   ]
  },
  {
   "attachments": {},
   "cell_type": "markdown",
   "metadata": {},
   "source": [
    "# 그리스 문자"
   ]
  },
  {
   "cell_type": "code",
   "execution_count": null,
   "metadata": {},
   "outputs": [],
   "source": [
    "α  # \\alpha<tab>\n",
    "β  # \\beta<tab>\n",
    "γ  # \\gamma<tab>\n",
    "δ  # \\delta<tab>\n",
    "ϵ  # \\epsilon<tab>\n",
    "ζ  # \\zeta<tab>\n",
    "η  # \\eta<tab>\n",
    "θ  # \\theta<tab>\n",
    "κ  # \\kappa<tab>\n",
    "λ  # \\lambda<tab>\n",
    "μ  # \\mu<tab>\n",
    "ν  # \\nu<tab>\n",
    "ξ  # \\xi<tab>\n",
    "π  # \\pi<tab>\n",
    "ρ  # \\rho<tab>\n",
    "σ  # \\sigma<tab>\n",
    "τ  # \\tau<tab>\n",
    "ϕ  # \\phi<tab>\n",
    "χ  # \\chi<tab>\n",
    "ψ  # \\psi<tab>\n",
    "ω  # \\ometa<tab>"
   ]
  },
  {
   "cell_type": "code",
   "execution_count": null,
   "metadata": {},
   "outputs": [],
   "source": [
    "Α  # \\Alpha<tab>\n",
    "Β  # \\Beta<tab>\n",
    "Γ  # \\Gamma<tab>\n",
    "Δ  # \\Delta<tab>\n",
    "Ε  # \\Epsilon<tab>\n",
    "Ζ  # \\Zeta<tab>\n",
    "Η  # \\Eta<tab>\n",
    "Θ  # \\Theta<tab>\n",
    "Κ  # \\Kappa<tab>\n",
    "Λ  # \\Lambda<tab>\n",
    "#μ  # \\Mu<tab>\n",
    "#ν   # \\Nu<tab>\n",
    "Ξ  # \\Xi<tab>\n",
    "Π  # \\Pi<tab>\n",
    "Ρ  # \\Rho<tab>\n",
    "Σ  # \\Sigma<tab>\n",
    "Τ  # \\Tau<tab>\n",
    "Φ  # \\Phi<tab>\n",
    "Χ  # \\Chi<tab>\n",
    "Ψ  # \\Psi<tab>\n",
    "Ω  # \\Ometa<tab>"
   ]
  }
 ],
 "metadata": {
  "kernelspec": {
   "display_name": "Julia 1.9.0",
   "language": "julia",
   "name": "julia-1.9"
  },
  "language_info": {
   "file_extension": ".jl",
   "mimetype": "application/julia",
   "name": "julia",
   "version": "1.9.0"
  },
  "orig_nbformat": 4
 },
 "nbformat": 4,
 "nbformat_minor": 2
}
