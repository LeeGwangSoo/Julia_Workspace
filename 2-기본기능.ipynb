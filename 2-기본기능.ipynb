{
 "cells": [
  {
   "attachments": {},
   "cell_type": "markdown",
   "metadata": {},
   "source": [
    "# 기본 기능"
   ]
  },
  {
   "attachments": {},
   "cell_type": "markdown",
   "metadata": {},
   "source": [
    "## 산술 연산자"
   ]
  },
  {
   "attachments": {},
   "cell_type": "markdown",
   "metadata": {},
   "source": [
    "* x / y : 나눗셈\n",
    "* x ÷ y : 정수 나눗셈, 정수로 짤림 \\div<tab>\n",
    "* x \\ y : 역나누기, y / x\n",
    "* x ^ y : 거듭제곱\n",
    "* x % y : 나머지, rem(x,y)\n",
    "* x // y : x/y를 분수 형태로 표현\n",
    "* mod(x,y) : modulo 연산"
   ]
  },
  {
   "cell_type": "code",
   "execution_count": 1,
   "metadata": {},
   "outputs": [
    {
     "name": "stdout",
     "output_type": "stream",
     "text": [
      "1"
     ]
    }
   ],
   "source": [
    "print(4 ÷ 3)"
   ]
  },
  {
   "cell_type": "code",
   "execution_count": 2,
   "metadata": {},
   "outputs": [
    {
     "data": {
      "text/plain": [
       "-2.5"
      ]
     },
     "metadata": {},
     "output_type": "display_data"
    }
   ],
   "source": [
    "x = 1;\n",
    "y = 3;\n",
    "(x + 2) / (y - 1) - 4*(x - 2)^2"
   ]
  },
  {
   "cell_type": "code",
   "execution_count": 3,
   "metadata": {},
   "outputs": [
    {
     "data": {
      "text/plain": [
       "14"
      ]
     },
     "metadata": {},
     "output_type": "display_data"
    }
   ],
   "source": [
    "2(3 + 4)  # 2*(3 + 4)와 같음"
   ]
  },
  {
   "attachments": {},
   "cell_type": "markdown",
   "metadata": {},
   "source": [
    "## promote"
   ]
  },
  {
   "cell_type": "code",
   "execution_count": 4,
   "metadata": {},
   "outputs": [
    {
     "data": {
      "text/plain": [
       "(1.0, 2.0)"
      ]
     },
     "metadata": {},
     "output_type": "display_data"
    }
   ],
   "source": [
    "x = 1.0  # Float64\n",
    "y = 2    # Int64\n",
    "\n",
    "xp, yp = promote(x,y)"
   ]
  },
  {
   "cell_type": "code",
   "execution_count": 7,
   "metadata": {},
   "outputs": [
    {
     "name": "stdout",
     "output_type": "stream",
     "text": [
      "Float64\n",
      "Float64\n"
     ]
    }
   ],
   "source": [
    "println(typeof(xp))\n",
    "println(typeof(yp))"
   ]
  },
  {
   "cell_type": "code",
   "execution_count": 8,
   "metadata": {},
   "outputs": [
    {
     "data": {
      "text/plain": [
       "(1.0, 2.0, 1.0, 4.5, 1.0)"
      ]
     },
     "metadata": {},
     "output_type": "display_data"
    }
   ],
   "source": [
    "promote(1, 2f0, true, 4.5, Int32(1))"
   ]
  },
  {
   "cell_type": "code",
   "execution_count": 9,
   "metadata": {},
   "outputs": [
    {
     "data": {
      "text/plain": [
       "Float64"
      ]
     },
     "metadata": {},
     "output_type": "display_data"
    }
   ],
   "source": [
    "promote_type(Float64, Int64, Bool, Int32)"
   ]
  },
  {
   "cell_type": "code",
   "execution_count": 10,
   "metadata": {},
   "outputs": [
    {
     "name": "stdout",
     "output_type": "stream",
     "text": [
      "3.0\n",
      "Float32"
     ]
    },
    {
     "name": "stdout",
     "output_type": "stream",
     "text": [
      "\n"
     ]
    }
   ],
   "source": [
    "x = 1  # Int64\n",
    "y = 2f0  # Float32\n",
    "z = x + y\n",
    "println(z)\n",
    "println(typeof(z))"
   ]
  },
  {
   "attachments": {},
   "cell_type": "markdown",
   "metadata": {},
   "source": [
    "## 비교 연산자"
   ]
  },
  {
   "attachments": {},
   "cell_type": "markdown",
   "metadata": {},
   "source": [
    "* == : 같음\n",
    "* !=, ≠ : 같지 않음, \\ne<tab>\n",
    "* ≤ : 작거나 같음, \\le<tab>\n",
    "* ≥ : 크거나 같음, \\ge<tab>"
   ]
  },
  {
   "cell_type": "code",
   "execution_count": 13,
   "metadata": {},
   "outputs": [
    {
     "name": "stdout",
     "output_type": "stream",
     "text": [
      "true\n",
      "true\n",
      "true\n"
     ]
    },
    {
     "name": "stdout",
     "output_type": "stream",
     "text": [
      "false\n"
     ]
    }
   ],
   "source": [
    "println(1 == 1)\n",
    "println(1 == 1.0)\n",
    "println(-1 <= 1)\n",
    "println(-1 ≥ 1)"
   ]
  },
  {
   "cell_type": "code",
   "execution_count": 15,
   "metadata": {},
   "outputs": [
    {
     "name": "stdout",
     "output_type": "stream",
     "text": [
      "true\n"
     ]
    },
    {
     "name": "stdout",
     "output_type": "stream",
     "text": [
      "true"
     ]
    },
    {
     "name": "stdout",
     "output_type": "stream",
     "text": [
      "\n"
     ]
    }
   ],
   "source": [
    "println(3 > 2 > 1)\n",
    "println(3 > 2 & 2 > 1)"
   ]
  },
  {
   "cell_type": "code",
   "execution_count": 16,
   "metadata": {},
   "outputs": [
    {
     "name": "stdout",
     "output_type": "stream",
     "text": [
      "false\n",
      "true\n",
      "false\n"
     ]
    }
   ],
   "source": [
    "println(NaN == NaN)\n",
    "println(NaN != NaN)\n",
    "println(NaN < NaN)"
   ]
  },
  {
   "attachments": {},
   "cell_type": "markdown",
   "metadata": {},
   "source": [
    "[비교 함수]\n",
    "* isequal(x, y) : 같은가?\n",
    "* isfinite(x) : 유한한 수인가?\n",
    "* isinf(x) : 무한한 수인가?\n",
    "* isnan(x) : 숫자가 아닌가?"
   ]
  },
  {
   "cell_type": "code",
   "execution_count": 18,
   "metadata": {},
   "outputs": [
    {
     "name": "stdout",
     "output_type": "stream",
     "text": [
      "true\n",
      "false\n"
     ]
    }
   ],
   "source": [
    "println(isequal(NaN, NaN))\n",
    "println(!isequal(NaN, NaN))"
   ]
  },
  {
   "attachments": {},
   "cell_type": "markdown",
   "metadata": {},
   "source": [
    "## 반올림 함수"
   ]
  },
  {
   "attachments": {},
   "cell_type": "markdown",
   "metadata": {},
   "source": [
    "* round(x) : 가장 가까운 정수로 반올림\n",
    "* floor(x) : x로부터 음의 무한대 방향으로 가장 가까운 정수 리턴\n",
    "* ceil(x)  : x로부터 양의 무한대 방향으로 가장 가까운 정수 리턴\n",
    "* trunc(x) : x로부터 0의 방향으로 가장 가까운 정수 리턴\n",
    "* round(T,x), floor(T,x), ceil(T,x), trunc(T,x) : 출력 형태를 T로 지정"
   ]
  },
  {
   "cell_type": "code",
   "execution_count": 1,
   "metadata": {},
   "outputs": [
    {
     "name": "stdout",
     "output_type": "stream",
     "text": [
      "3141.5926\n"
     ]
    }
   ],
   "source": [
    "x = 3141.5926\n",
    "println(x)"
   ]
  },
  {
   "cell_type": "code",
   "execution_count": 4,
   "metadata": {},
   "outputs": [
    {
     "name": "stdout",
     "output_type": "stream",
     "text": [
      "3142.0"
     ]
    },
    {
     "name": "stdout",
     "output_type": "stream",
     "text": [
      "\n",
      "3141.0\n",
      "3142.0\n"
     ]
    }
   ],
   "source": [
    "println(round(x))  # 가장 가까운 정수\n",
    "println(floor(x))  # 내림\n",
    "println(ceil(x))   # 올림"
   ]
  },
  {
   "cell_type": "code",
   "execution_count": 5,
   "metadata": {},
   "outputs": [
    {
     "name": "stdout",
     "output_type": "stream",
     "text": [
      "3142\n"
     ]
    },
    {
     "name": "stdout",
     "output_type": "stream",
     "text": [
      "3141"
     ]
    },
    {
     "name": "stdout",
     "output_type": "stream",
     "text": [
      "\n",
      "3142\n"
     ]
    }
   ],
   "source": [
    "println(round(Int64, x))\n",
    "println(floor(Int32, x))\n",
    "println(ceil(Int16, x))"
   ]
  },
  {
   "cell_type": "code",
   "execution_count": 7,
   "metadata": {},
   "outputs": [
    {
     "name": "stdout",
     "output_type": "stream",
     "text": [
      "3141.593\n"
     ]
    },
    {
     "name": "stdout",
     "output_type": "stream",
     "text": [
      "3140.0\n"
     ]
    }
   ],
   "source": [
    "println(round(x; digits=3))  # 반올림할 소숫점 이하 자릿수\n",
    "println(round(x; sigdigits=3))  # 반올림할 유효 자릿수"
   ]
  },
  {
   "attachments": {},
   "cell_type": "markdown",
   "metadata": {},
   "source": [
    "## 숫자 변환"
   ]
  },
  {
   "cell_type": "code",
   "execution_count": 8,
   "metadata": {},
   "outputs": [
    {
     "name": "stdout",
     "output_type": "stream",
     "text": [
      "1.234\n",
      "1.234\n"
     ]
    }
   ],
   "source": [
    "println(convert(Float32, 1.234))\n",
    "println(Float32(1.234))"
   ]
  },
  {
   "cell_type": "code",
   "execution_count": 9,
   "metadata": {},
   "outputs": [
    {
     "name": "stdout",
     "output_type": "stream",
     "text": [
      "1"
     ]
    },
    {
     "name": "stdout",
     "output_type": "stream",
     "text": [
      "\n",
      "1\n"
     ]
    },
    {
     "ename": "InexactError",
     "evalue": "InexactError: Int64(1.234)",
     "output_type": "error",
     "traceback": [
      "InexactError: Int64(1.234)\n",
      "\n",
      "Stacktrace:\n",
      " [1] Int64\n",
      "   @ .\\float.jl:900 [inlined]\n",
      " [2] convert(#unused#::Type{Int64}, x::Float64)\n",
      "   @ Base .\\number.jl:7\n",
      " [3] top-level scope\n",
      "   @ c:\\Users\\aroli\\Julia_Workspace\\2-기본기능.ipynb:3"
     ]
    }
   ],
   "source": [
    "println(convert(Int64, 1.0))\n",
    "println(Int64(1.0))\n",
    "println(convert(Int64, 1.234))\n",
    "println(Int64(1.234))"
   ]
  },
  {
   "cell_type": "code",
   "execution_count": null,
   "metadata": {},
   "outputs": [],
   "source": []
  }
 ],
 "metadata": {
  "kernelspec": {
   "display_name": "Julia 1.9.0",
   "language": "julia",
   "name": "julia-1.9"
  },
  "language_info": {
   "file_extension": ".jl",
   "mimetype": "application/julia",
   "name": "julia",
   "version": "1.9.0"
  },
  "orig_nbformat": 4
 },
 "nbformat": 4,
 "nbformat_minor": 2
}
